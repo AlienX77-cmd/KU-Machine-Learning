{
 "cells": [
  {
   "cell_type": "markdown",
   "metadata": {},
   "source": [
    "# 6310505688 กิตติภัค วิบูลเสถียร"
   ]
  },
  {
   "cell_type": "code",
   "execution_count": 1,
   "metadata": {
    "colab": {
     "base_uri": "https://localhost:8080/",
     "height": 501
    },
    "id": "Z_s7hjLjXSL4",
    "outputId": "a923198c-95bc-4c98-d0c8-f14b562b03d6"
   },
   "outputs": [
    {
     "name": "stdout",
     "output_type": "stream",
     "text": [
      "Requirement already satisfied: ortools in c:\\users\\alive\\anaconda3\\lib\\site-packages (9.8.3296)\n",
      "Requirement already satisfied: absl-py>=2.0.0 in c:\\users\\alive\\anaconda3\\lib\\site-packages (from ortools) (2.0.0)\n",
      "Requirement already satisfied: numpy>=1.13.3 in c:\\users\\alive\\anaconda3\\lib\\site-packages (from ortools) (1.24.3)\n",
      "Requirement already satisfied: pandas>=2.0.0 in c:\\users\\alive\\anaconda3\\lib\\site-packages (from ortools) (2.0.3)\n",
      "Requirement already satisfied: protobuf>=4.25.0 in c:\\users\\alive\\anaconda3\\lib\\site-packages (from ortools) (4.25.1)\n",
      "Requirement already satisfied: python-dateutil>=2.8.2 in c:\\users\\alive\\anaconda3\\lib\\site-packages (from pandas>=2.0.0->ortools) (2.8.2)\n",
      "Requirement already satisfied: pytz>=2020.1 in c:\\users\\alive\\anaconda3\\lib\\site-packages (from pandas>=2.0.0->ortools) (2023.3.post1)\n",
      "Requirement already satisfied: tzdata>=2022.1 in c:\\users\\alive\\anaconda3\\lib\\site-packages (from pandas>=2.0.0->ortools) (2023.3)\n",
      "Requirement already satisfied: six>=1.5 in c:\\users\\alive\\anaconda3\\lib\\site-packages (from python-dateutil>=2.8.2->pandas>=2.0.0->ortools) (1.16.0)\n"
     ]
    }
   ],
   "source": [
    "!pip install ortools"
   ]
  },
  {
   "cell_type": "markdown",
   "metadata": {
    "id": "ErlxNQFDAIwQ"
   },
   "source": [
    "<h1>Optimization Demo (Knapsack problem)</h1>\n",
    "<img src=\"https://cs.stanford.edu/people/eroberts/courses/soco/projects/public-key-cryptography/images/animate.gif\"/>\n",
    "\n",
    "\n"
   ]
  },
  {
   "cell_type": "code",
   "execution_count": 2,
   "metadata": {
    "id": "afeawF3S_YL2"
   },
   "outputs": [],
   "source": [
    "# Define a default knapsack 01 function\n",
    "def knapsack01 (MLimit, WeightofItem, ValueofItem, NumberOI):\n",
    "    # Give the initial if conditions\n",
    "    if NumberOI == 0 or MLimit == 0 :\n",
    "       return 0\n",
    "    # Defining nested if condition for higher weight\n",
    "    if (WeightofItem [NumberOI-1] > MLimit):\n",
    "       return knapsack01 (MLimit, WeightofItem, ValueofItem, NumberOI-1)\n",
    "    # Using else condition for number of items\n",
    "    else:\n",
    "       return max (ValueofItem [NumberOI-1] + knapsack01 (MLimit-WeightofItem [NumberOI-1], WeightofItem, ValueofItem, NumberOI-1),\n",
    "                   knapsack01 (MLimit, WeightofItem, ValueofItem, NumberOI-1))\n"
   ]
  },
  {
   "cell_type": "code",
   "execution_count": 3,
   "metadata": {
    "id": "njsx7zzIARuo"
   },
   "outputs": [],
   "source": [
    "# Define a default knapsack 02 function\n",
    "def knapsack02 (MLimit, WeightofItem, ValueofItem, NumberOI):\n",
    "    M = [ [0 for a in range (MLimit + 1)] for a in range (NumberOI + 1)]\n",
    "    # Define a for loop for limit\n",
    "    for b in range (NumberOI + 1):\n",
    "       # Nested for loop for higher limit\n",
    "       for c in range (MLimit + 1):\n",
    "          # Defining if condition for maximum weight\n",
    "          if b == 0 or c == 0:\n",
    "             M[b][c] = 0\n",
    "          # Else if condition for maximum value in bag\n",
    "          elif WeightofItem[b-1] <= c:\n",
    "             M[b][c] = max (ValueofItem[b-1] + M[b-1][c-WeightofItem[b-1]], M[b-1][c])\n",
    "          else:\n",
    "             M[b][c] = M[b-1][c]\n",
    "    return M[NumberOI][MLimit] # returning maximum value from the function\n"
   ]
  },
  {
   "cell_type": "code",
   "execution_count": 4,
   "metadata": {
    "id": "1ee9gAmOUG8y"
   },
   "outputs": [],
   "source": [
    "def knapsack03(MLimit, WeightofItem, ValueofItem, NumberOI):\n",
    "  from ortools.algorithms import pywrapknapsack_solver\n",
    "  solver = pywrapknapsack_solver.KnapsackSolver(pywrapknapsack_solver.KnapsackSolver.KNAPSACK_MULTIDIMENSION_BRANCH_AND_BOUND_SOLVER, 'KnapsackExample')\n",
    "\n",
    "  solver.Init(ValueofItem, [WeightofItem], [MLimit])\n",
    "  computed_value = solver.Solve()\n",
    "  return computed_value"
   ]
  },
  {
   "cell_type": "markdown",
   "metadata": {
    "id": "3S7MBMCFMx2b"
   },
   "source": [
    "** ถ้ากำหนดขนาดข้อมูล  **\n",
    "* size =5 จะใช้ข้อมูลตามรูป ซึ่งตอนรันควรป้อนขนาด 20  \n",
    "* size <9 จะใช้ชุดข้อมูลตัวอย่างทีกำหนดล่วงหน้า่ ซึ่งในขณะรัน เมื่อป้อน max limit เข้าไป จะตอบ 2565 นั่นคือ กระป๋องขนาด 97 จะ มีของใส่ ได้แก่ 40+36+16+4+1 ซึ่งของจะมีมูลค่า 2000+500+50+10+5==>2565\n",
    "* size >9 จะสร้างชุดข้อมูลที่มีขนาดใหญ่กว่าเดิม ซึ่งจะส่งผลต่อประสิทธิภาพของ อัลกอริทึ่ม (อย่าใส่ค่าสูงเกินไป 30 ก็เยอะแล้ว)"
   ]
  },
  {
   "cell_type": "code",
   "execution_count": 5,
   "metadata": {
    "id": "3JPvgNblItCG"
   },
   "outputs": [],
   "source": [
    "size=30"
   ]
  },
  {
   "cell_type": "code",
   "execution_count": 6,
   "metadata": {
    "colab": {
     "base_uri": "https://localhost:8080/"
    },
    "id": "9aI0fSrvAACd",
    "outputId": "abcadc34-434c-42b6-c467-a065c496b785"
   },
   "outputs": [
    {
     "name": "stdout",
     "output_type": "stream",
     "text": [
      "[134, 763, 495, 651, 93, 835, 762, 445, 228, 901, 25, 939, 216, 29, 437, 233, 218, 289, 837, 642, 992, 120, 721, 936, 830, 303, 882, 505, 34, 797]\n",
      "[42, 12, 22, 39, 1, 21, 0, 36, 47, 1, 27, 19, 21, 11, 24, 11, 22, 1, 27, 9, 42, 16, 35, 21, 33, 29, 42, 29, 12, 20]\n"
     ]
    }
   ],
   "source": [
    "from random import seed\n",
    "from random import random\n",
    "\n",
    "if size==5:\n",
    "  ValueofItem = [4, 5, 6, 8, 11]\n",
    "  WeightofItem = [4, 5, 6, 8, 11]\n",
    "elif size<9:\n",
    "  ValueofItem = [5, 10, 20, 50, 100, 200, 500, 2000]\n",
    "  WeightofItem = [1, 4, 8, 16, 24, 32, 36, 40]\n",
    "else:\n",
    "  seed(1)\n",
    "  ValueofItem=[]\n",
    "  WeightofItem=[]\n",
    "  for i in range(size):\n",
    "    ValueofItem.append(int(random()*1000))\n",
    "    WeightofItem.append(int(random()*50))\n",
    "print (ValueofItem)\n",
    "print(WeightofItem)"
   ]
  },
  {
   "cell_type": "markdown",
   "metadata": {
    "id": "96BctoWESSWU"
   },
   "source": [
    "รันโปรแกรม โดยแสดงผลลัพธ์จากทั้งสอง อัลกอริที่ม จะเห็นว่าเวลาที่ได้แตกต่างกันมาก"
   ]
  },
  {
   "cell_type": "code",
   "execution_count": 7,
   "metadata": {
    "colab": {
     "base_uri": "https://localhost:8080/"
    },
    "id": "JtXSlV3EA06T",
    "outputId": "7e97f0c1-8a69-4c9a-a065-bb545ce4ab99"
   },
   "outputs": [
    {
     "name": "stdout",
     "output_type": "stream",
     "text": [
      "Enter the maximum limit for the bag: 100\n",
      "The maximum value of items we can get with the given limit: \n"
     ]
    },
    {
     "ename": "ImportError",
     "evalue": "cannot import name 'pywrapknapsack_solver' from 'ortools.algorithms' (C:\\Users\\Alive\\anaconda3\\Lib\\site-packages\\ortools\\algorithms\\__init__.py)",
     "output_type": "error",
     "traceback": [
      "\u001b[1;31m---------------------------------------------------------------------------\u001b[0m",
      "\u001b[1;31mImportError\u001b[0m                               Traceback (most recent call last)",
      "Cell \u001b[1;32mIn[7], line 13\u001b[0m\n\u001b[0;32m     11\u001b[0m r2\u001b[38;5;241m=\u001b[39mknapsack02 (MLimit, WeightofItem, ValueofItem, NumberOI)\n\u001b[0;32m     12\u001b[0m t3\u001b[38;5;241m=\u001b[39mtime\u001b[38;5;241m.\u001b[39mperf_counter ()\n\u001b[1;32m---> 13\u001b[0m r3\u001b[38;5;241m=\u001b[39mknapsack03 (MLimit, WeightofItem, ValueofItem, NumberOI)\n\u001b[0;32m     14\u001b[0m t4\u001b[38;5;241m=\u001b[39mtime\u001b[38;5;241m.\u001b[39mperf_counter ()\n\u001b[0;32m     15\u001b[0m \u001b[38;5;28mprint\u001b[39m(\u001b[38;5;124m\"\u001b[39m\u001b[38;5;124mbrute force: max value=\u001b[39m\u001b[38;5;124m\"\u001b[39m\u001b[38;5;241m+\u001b[39m\u001b[38;5;28mstr\u001b[39m(r1)\u001b[38;5;241m+\u001b[39m\u001b[38;5;124m\"\u001b[39m\u001b[38;5;124m (\u001b[39m\u001b[38;5;124m\"\u001b[39m\u001b[38;5;241m+\u001b[39m\u001b[38;5;28mstr\u001b[39m(t2\u001b[38;5;241m-\u001b[39mt1)\u001b[38;5;241m+\u001b[39m\u001b[38;5;124m\"\u001b[39m\u001b[38;5;124m s.)\u001b[39m\u001b[38;5;124m\"\u001b[39m)\n",
      "Cell \u001b[1;32mIn[4], line 2\u001b[0m, in \u001b[0;36mknapsack03\u001b[1;34m(MLimit, WeightofItem, ValueofItem, NumberOI)\u001b[0m\n\u001b[0;32m      1\u001b[0m \u001b[38;5;28;01mdef\u001b[39;00m \u001b[38;5;21mknapsack03\u001b[39m(MLimit, WeightofItem, ValueofItem, NumberOI):\n\u001b[1;32m----> 2\u001b[0m   \u001b[38;5;28;01mfrom\u001b[39;00m \u001b[38;5;21;01mortools\u001b[39;00m\u001b[38;5;21;01m.\u001b[39;00m\u001b[38;5;21;01malgorithms\u001b[39;00m \u001b[38;5;28;01mimport\u001b[39;00m pywrapknapsack_solver\n\u001b[0;32m      3\u001b[0m   solver \u001b[38;5;241m=\u001b[39m pywrapknapsack_solver\u001b[38;5;241m.\u001b[39mKnapsackSolver(pywrapknapsack_solver\u001b[38;5;241m.\u001b[39mKnapsackSolver\u001b[38;5;241m.\u001b[39mKNAPSACK_MULTIDIMENSION_BRANCH_AND_BOUND_SOLVER, \u001b[38;5;124m'\u001b[39m\u001b[38;5;124mKnapsackExample\u001b[39m\u001b[38;5;124m'\u001b[39m)\n\u001b[0;32m      5\u001b[0m   solver\u001b[38;5;241m.\u001b[39mInit(ValueofItem, [WeightofItem], [MLimit])\n",
      "\u001b[1;31mImportError\u001b[0m: cannot import name 'pywrapknapsack_solver' from 'ortools.algorithms' (C:\\Users\\Alive\\anaconda3\\Lib\\site-packages\\ortools\\algorithms\\__init__.py)"
     ]
    }
   ],
   "source": [
    "# Defining variables used in the function\n",
    "NumberOI = len (ValueofItem)\n",
    "# Taking maximum limit as user input\n",
    "MLimit = int (input (\"Enter the maximum limit for the bag: \"))\n",
    "# Printing result of problem in the output\n",
    "print (\"The maximum value of items we can get with the given limit: \")\n",
    "import time\n",
    "t1=time.perf_counter ()\n",
    "r1=knapsack01 (MLimit, WeightofItem, ValueofItem, NumberOI)\n",
    "t2=time.perf_counter ()\n",
    "r2=knapsack02 (MLimit, WeightofItem, ValueofItem, NumberOI)\n",
    "t3=time.perf_counter ()\n",
    "r3=knapsack03 (MLimit, WeightofItem, ValueofItem, NumberOI)\n",
    "t4=time.perf_counter ()\n",
    "print(\"brute force: max value=\"+str(r1)+\" (\"+str(t2-t1)+\" s.)\")\n",
    "print(\"dynamic programing: max value=\"+str(r2)+\" (\"+str(t3-t2)+\" s.)\")\n",
    "print(\"Google OR tools: max value=\"+str(r3)+\" (\"+str(t4-t3)+\" s.)\")"
   ]
  },
  {
   "cell_type": "markdown",
   "metadata": {
    "id": "_TdELH3pAJuI"
   },
   "source": [
    "reference\n",
    "https://www.tutorialandexample.com/python-knapsack-problem/"
   ]
  }
 ],
 "metadata": {
  "colab": {
   "provenance": []
  },
  "kernelspec": {
   "display_name": "Python 3 (ipykernel)",
   "language": "python",
   "name": "python3"
  },
  "language_info": {
   "codemirror_mode": {
    "name": "ipython",
    "version": 3
   },
   "file_extension": ".py",
   "mimetype": "text/x-python",
   "name": "python",
   "nbconvert_exporter": "python",
   "pygments_lexer": "ipython3",
   "version": "3.11.5"
  }
 },
 "nbformat": 4,
 "nbformat_minor": 1
}
